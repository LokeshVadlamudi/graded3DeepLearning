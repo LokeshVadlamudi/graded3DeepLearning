{
  "nbformat": 4,
  "nbformat_minor": 0,
  "metadata": {
    "colab": {
      "name": "graded3.ipynb",
      "provenance": [],
      "collapsed_sections": [],
      "mount_file_id": "1YJVigMVWf7v-9Y5z16DYoKN-lZYbf4mE",
      "authorship_tag": "ABX9TyMb9sO8VN5kufLZOJHVvEzB",
      "include_colab_link": true
    },
    "kernelspec": {
      "name": "python3",
      "display_name": "Python 3"
    }
  },
  "cells": [
    {
      "cell_type": "markdown",
      "metadata": {
        "id": "view-in-github",
        "colab_type": "text"
      },
      "source": [
        "<a href=\"https://colab.research.google.com/github/LokeshVadlamudi/graded3DeepLearning/blob/master/graded3.ipynb\" target=\"_parent\"><img src=\"https://colab.research.google.com/assets/colab-badge.svg\" alt=\"Open In Colab\"/></a>"
      ]
    },
    {
      "cell_type": "code",
      "metadata": {
        "id": "biLpgJAZUsCe",
        "colab_type": "code",
        "colab": {}
      },
      "source": [
        "%reload_ext autoreload\n",
        "%autoreload 2\n",
        "%matplotlib inline"
      ],
      "execution_count": 0,
      "outputs": []
    },
    {
      "cell_type": "code",
      "metadata": {
        "id": "GsBJNlxiQWmG",
        "colab_type": "code",
        "colab": {}
      },
      "source": [
        "from fastai.vision import *"
      ],
      "execution_count": 0,
      "outputs": []
    },
    {
      "cell_type": "code",
      "metadata": {
        "id": "t68uQEh0JVgv",
        "colab_type": "code",
        "colab": {
          "base_uri": "https://localhost:8080/",
          "height": 33
        },
        "outputId": "d453ebae-c196-4f8e-f1e0-fd08b1d85385"
      },
      "source": [
        "import cv2\n",
        "from tqdm import tqdm\n",
        "import numpy as np\n",
        "import pandas as pd\n",
        "\n",
        "!pip install -U -q PyDrive\n",
        "from pydrive.auth import GoogleAuth\n",
        "from pydrive.drive import GoogleDrive\n",
        "from google.colab import auth\n",
        "from oauth2client.client import GoogleCredentials\n",
        "\n",
        "import zipfile\n",
        "\n",
        "from keras.preprocessing import image\n",
        "import urllib.request\n",
        "from keras.preprocessing.image import *\n",
        "import keras\n",
        "from keras.layers import *"
      ],
      "execution_count": 3,
      "outputs": [
        {
          "output_type": "stream",
          "text": [
            "Using TensorFlow backend.\n"
          ],
          "name": "stderr"
        }
      ]
    },
    {
      "cell_type": "code",
      "metadata": {
        "id": "Lo1NQz-tUqFJ",
        "colab_type": "code",
        "colab": {
          "base_uri": "https://localhost:8080/",
          "height": 191
        },
        "outputId": "a3a0d0ff-4b9b-43f0-afbc-fe04ab952584"
      },
      "source": [
        "df_train = pd.read_csv('/content/drive/My Drive/planetDataset/train_v2.csv')\n",
        "df_train.head()"
      ],
      "execution_count": 4,
      "outputs": [
        {
          "output_type": "execute_result",
          "data": {
            "text/html": [
              "<div>\n",
              "<style scoped>\n",
              "    .dataframe tbody tr th:only-of-type {\n",
              "        vertical-align: middle;\n",
              "    }\n",
              "\n",
              "    .dataframe tbody tr th {\n",
              "        vertical-align: top;\n",
              "    }\n",
              "\n",
              "    .dataframe thead th {\n",
              "        text-align: right;\n",
              "    }\n",
              "</style>\n",
              "<table border=\"1\" class=\"dataframe\">\n",
              "  <thead>\n",
              "    <tr style=\"text-align: right;\">\n",
              "      <th></th>\n",
              "      <th>image_name</th>\n",
              "      <th>tags</th>\n",
              "    </tr>\n",
              "  </thead>\n",
              "  <tbody>\n",
              "    <tr>\n",
              "      <th>0</th>\n",
              "      <td>train_0</td>\n",
              "      <td>haze primary</td>\n",
              "    </tr>\n",
              "    <tr>\n",
              "      <th>1</th>\n",
              "      <td>train_1</td>\n",
              "      <td>agriculture clear primary water</td>\n",
              "    </tr>\n",
              "    <tr>\n",
              "      <th>2</th>\n",
              "      <td>train_2</td>\n",
              "      <td>clear primary</td>\n",
              "    </tr>\n",
              "    <tr>\n",
              "      <th>3</th>\n",
              "      <td>train_3</td>\n",
              "      <td>clear primary</td>\n",
              "    </tr>\n",
              "    <tr>\n",
              "      <th>4</th>\n",
              "      <td>train_4</td>\n",
              "      <td>agriculture clear habitation primary road</td>\n",
              "    </tr>\n",
              "  </tbody>\n",
              "</table>\n",
              "</div>"
            ],
            "text/plain": [
              "  image_name                                       tags\n",
              "0    train_0                               haze primary\n",
              "1    train_1            agriculture clear primary water\n",
              "2    train_2                              clear primary\n",
              "3    train_3                              clear primary\n",
              "4    train_4  agriculture clear habitation primary road"
            ]
          },
          "metadata": {
            "tags": []
          },
          "execution_count": 4
        }
      ]
    },
    {
      "cell_type": "code",
      "metadata": {
        "id": "EIZUIDJvuI1q",
        "colab_type": "code",
        "colab": {}
      },
      "source": [
        "auth.authenticate_user()\n",
        "gauth = GoogleAuth()\n",
        "gauth.credentials = GoogleCredentials.get_application_default()\n",
        "drive = GoogleDrive(gauth)"
      ],
      "execution_count": 0,
      "outputs": []
    },
    {
      "cell_type": "code",
      "metadata": {
        "id": "e0_DoPKYuKMm",
        "colab_type": "code",
        "colab": {}
      },
      "source": [
        "link = 'https://drive.google.com/open?id=15yUQp_EY3FTWajcTLP7HiZsnfI7WhZEm'\n",
        "fluff, id = link.split('=')\n",
        "\n",
        "\n",
        "downloaded = drive.CreateFile({'id':id})\n",
        "downloaded.GetContentFile('train-jpg.zip')\n",
        "\n",
        "\n",
        "with zipfile.ZipFile('train-jpg.zip', 'r') as zip_ref:\n",
        "    zip_ref.extractall()"
      ],
      "execution_count": 0,
      "outputs": []
    },
    {
      "cell_type": "code",
      "metadata": {
        "id": "HN7NWBS_M-JJ",
        "colab_type": "code",
        "colab": {}
      },
      "source": [
        "# !unzip '/content/drive/My Drive/planetDataset/train-jpg.zip'"
      ],
      "execution_count": 0,
      "outputs": []
    },
    {
      "cell_type": "code",
      "metadata": {
        "id": "JDQA_dj-Kfkj",
        "colab_type": "code",
        "colab": {}
      },
      "source": [
        "x_train = []\n",
        "x_test = []\n",
        "y_train = []"
      ],
      "execution_count": 0,
      "outputs": []
    },
    {
      "cell_type": "code",
      "metadata": {
        "id": "x7gjqeKytSO_",
        "colab_type": "code",
        "colab": {}
      },
      "source": [
        "def flatten(l):\n",
        "    result = []\n",
        "    for sublist in l:     \n",
        "        for item in sublist: \n",
        "            result.append(item)\n",
        "    return result"
      ],
      "execution_count": 0,
      "outputs": []
    },
    {
      "cell_type": "code",
      "metadata": {
        "id": "48C6PxqotVco",
        "colab_type": "code",
        "colab": {}
      },
      "source": [
        "labs = list(set(flatten([l.split(' ') for l in df_train['tags'].values])))"
      ],
      "execution_count": 0,
      "outputs": []
    },
    {
      "cell_type": "code",
      "metadata": {
        "id": "E7YAwYWetX9I",
        "colab_type": "code",
        "colab": {}
      },
      "source": [
        "lab_m = {l: i for i, l in enumerate(labs)}\n",
        "inv_lab_m = {i: l for l, i in lab_m.items()}\n"
      ],
      "execution_count": 0,
      "outputs": []
    },
    {
      "cell_type": "code",
      "metadata": {
        "id": "8fE29N9otaVm",
        "colab_type": "code",
        "colab": {
          "base_uri": "https://localhost:8080/",
          "height": 33
        },
        "outputId": "732e46e7-c722-4e02-ae7e-c7ff2ed4c0f1"
      },
      "source": [
        "for f, tags in tqdm(df_train.values, miniters=5000):\n",
        "    img = cv2.imread('train-jpg/{}.jpg'.format(f))\n",
        "    targets = np.zeros(17)\n",
        "    for t in tags.split(' '):\n",
        "        targets[lab_m[t]] = 1 \n",
        "    x_train.append(cv2.resize(img, (32, 32)))\n",
        "    y_train.append(targets)\n",
        "    \n",
        "y_train = np.array(y_train, np.uint8)\n",
        "x_train = np.array(x_train, np.float16) / 255."
      ],
      "execution_count": 13,
      "outputs": [
        {
          "output_type": "stream",
          "text": [
            "100%|██████████| 40479/40479 [00:55<00:00, 732.58it/s]\n"
          ],
          "name": "stderr"
        }
      ]
    },
    {
      "cell_type": "code",
      "metadata": {
        "id": "mzbpQfCatjM3",
        "colab_type": "code",
        "colab": {}
      },
      "source": [
        "splitter = 30000\n",
        "x_train, x_valid, y_train, y_valid = x_train[:splitter], x_train[splitter:], y_train[:splitter], y_train[splitter:]"
      ],
      "execution_count": 0,
      "outputs": []
    },
    {
      "cell_type": "code",
      "metadata": {
        "id": "M8O5VXe4NjoU",
        "colab_type": "code",
        "colab": {
          "base_uri": "https://localhost:8080/",
          "height": 33
        },
        "outputId": "37190d83-6657-4059-ffc6-ce2e0c5a6b1d"
      },
      "source": [
        "print(x_train.shape, x_valid.shape, y_train.shape, y_valid.shape)"
      ],
      "execution_count": 15,
      "outputs": [
        {
          "output_type": "stream",
          "text": [
            "(30000, 32, 32, 3) (10479, 32, 32, 3) (30000, 17) (10479, 17)\n"
          ],
          "name": "stdout"
        }
      ]
    },
    {
      "cell_type": "code",
      "metadata": {
        "id": "tNK7CqcBu3jU",
        "colab_type": "code",
        "colab": {}
      },
      "source": [
        "def loki_model():\n",
        "  loki = keras.models.Sequential()\n",
        "  loki.add(Conv2D(64, (3, 3), input_shape=(32, 32, 3),activation='relu'))\n",
        "  loki.add(MaxPooling2D(pool_size=(2, 2)))\n",
        "  loki.add(Conv2D(32, (3, 3), activation='relu'))\n",
        "  loki.add(MaxPooling2D(pool_size=(2, 2)))\n",
        "  loki.add(Flatten())\n",
        "  loki.add(Dense(units=128, activation='relu'))\n",
        "  loki.add(Dropout(0.5))\n",
        "  loki.add(Dense(units=17, activation='sigmoid'))\n",
        "  return loki"
      ],
      "execution_count": 0,
      "outputs": []
    },
    {
      "cell_type": "code",
      "metadata": {
        "id": "aIL7oVxKu5rv",
        "colab_type": "code",
        "colab": {}
      },
      "source": [
        "model=loki_model()"
      ],
      "execution_count": 0,
      "outputs": []
    },
    {
      "cell_type": "code",
      "metadata": {
        "id": "0EMLTaOvu7j-",
        "colab_type": "code",
        "colab": {}
      },
      "source": [
        "model.compile(loss='binary_crossentropy', optimizer='adam', metrics=['accuracy'])"
      ],
      "execution_count": 0,
      "outputs": []
    },
    {
      "cell_type": "code",
      "metadata": {
        "id": "_h7SIsPTvHrH",
        "colab_type": "code",
        "colab": {}
      },
      "source": [
        "from keras.callbacks import TensorBoard\n",
        "\n",
        "import tensorflow as tf\n",
        "import datetime\n",
        "\n",
        "!rm -rf ./logs/ "
      ],
      "execution_count": 0,
      "outputs": []
    },
    {
      "cell_type": "code",
      "metadata": {
        "id": "9fMC4tsEeAMN",
        "colab_type": "code",
        "colab": {}
      },
      "source": [
        "import os"
      ],
      "execution_count": 0,
      "outputs": []
    },
    {
      "cell_type": "code",
      "metadata": {
        "id": "ZQWDOEb0DHiK",
        "colab_type": "code",
        "colab": {}
      },
      "source": [
        "logdir = os.path.join(\"logs\", datetime.datetime.now().strftime(\"%Y%m%d-%H%M%S\"))\n",
        "tensorboard_callback = TensorBoard(log_dir=logdir, histogram_freq=1)"
      ],
      "execution_count": 0,
      "outputs": []
    },
    {
      "cell_type": "code",
      "metadata": {
        "id": "o_xpbj5GVWAC",
        "colab_type": "code",
        "colab": {}
      },
      "source": [
        "#batch size = 256 , epochs = 3"
      ],
      "execution_count": 0,
      "outputs": []
    },
    {
      "cell_type": "code",
      "metadata": {
        "id": "sdZcndiwesQe",
        "colab_type": "code",
        "colab": {
          "base_uri": "https://localhost:8080/",
          "height": 33
        },
        "outputId": "9ff25fd6-3cbd-4c7a-f3d5-c08655825143"
      },
      "source": [
        "%tensorboard --logdir fit"
      ],
      "execution_count": 25,
      "outputs": [
        {
          "output_type": "stream",
          "text": [
            "UsageError: Line magic function `%tensorboard` not found.\n"
          ],
          "name": "stderr"
        }
      ]
    },
    {
      "cell_type": "code",
      "metadata": {
        "id": "soa_I4q_u9qC",
        "colab_type": "code",
        "colab": {
          "base_uri": "https://localhost:8080/",
          "height": 151
        },
        "outputId": "77684aa5-be64-4edb-fb64-81d738adf2cf"
      },
      "source": [
        "model_loki=model.fit(x_train, y_train,batch_size=256,epochs=3,verbose=1,validation_data=(x_valid, y_valid),callbacks=[tensorboard_callback])"
      ],
      "execution_count": 26,
      "outputs": [
        {
          "output_type": "stream",
          "text": [
            "Train on 30000 samples, validate on 10479 samples\n",
            "Epoch 1/3\n",
            "30000/30000 [==============================] - 45s 2ms/step - loss: 0.3109 - accuracy: 0.8854 - val_loss: 0.2269 - val_accuracy: 0.9110\n",
            "Epoch 2/3\n",
            "30000/30000 [==============================] - 46s 2ms/step - loss: 0.2349 - accuracy: 0.9100 - val_loss: 0.2099 - val_accuracy: 0.9170\n",
            "Epoch 3/3\n",
            "30000/30000 [==============================] - 46s 2ms/step - loss: 0.2183 - accuracy: 0.9149 - val_loss: 0.2041 - val_accuracy: 0.9183\n"
          ],
          "name": "stdout"
        }
      ]
    },
    {
      "cell_type": "code",
      "metadata": {
        "id": "A_2rRVcDC3mo",
        "colab_type": "code",
        "colab": {}
      },
      "source": [
        "# %tensorboard --logdir fit"
      ],
      "execution_count": 0,
      "outputs": []
    },
    {
      "cell_type": "markdown",
      "metadata": {
        "id": "P4zZJN_mKbsD",
        "colab_type": "text"
      },
      "source": [
        "#another model with extra dense layer"
      ]
    },
    {
      "cell_type": "code",
      "metadata": {
        "id": "pzPBcWxSC6JS",
        "colab_type": "code",
        "colab": {}
      },
      "source": [
        "def loki_1():\n",
        "\n",
        "  loki = keras.models.Sequential()\n",
        "\n",
        "  loki.add(Conv2D(64, (3, 3), input_shape=(32, 32, 3),activation='relu'))\n",
        "  loki.add(MaxPooling2D(pool_size=(2, 2)))\n",
        "\n",
        "  loki.add(Conv2D(32, (3, 3), activation='relu'))\n",
        "  loki.add(MaxPooling2D(pool_size=(2, 2)))\n",
        "\n",
        "  loki.add(Flatten())\n",
        "\n",
        "  loki.add(Dense(units=128, activation='relu'))\n",
        "  loki.add(Dropout(0.5))\n",
        "\n",
        "  loki.add(Dense(units=128, activation='relu'))\n",
        "  loki.add(Dropout(0.3))\n",
        "\n",
        "  loki.add(Dense(units=17, activation='sigmoid'))\n",
        "\n",
        "  return loki"
      ],
      "execution_count": 0,
      "outputs": []
    },
    {
      "cell_type": "code",
      "metadata": {
        "id": "jPCIVEMGC9DW",
        "colab_type": "code",
        "colab": {
          "base_uri": "https://localhost:8080/",
          "height": 151
        },
        "outputId": "d06d40e2-100e-43bc-bb2f-c94bbd0c24e4"
      },
      "source": [
        "model=loki_1()\n",
        "model.compile(loss='binary_crossentropy', optimizer='adam', metrics=['accuracy'])\n",
        "# %tensorboard --logdir logs/fit\n",
        "loki_model = model.fit(x_train, y_train,batch_size=128,epochs=3,verbose=1,validation_data=(x_valid, y_valid),callbacks=[tensorboard_callback])"
      ],
      "execution_count": 29,
      "outputs": [
        {
          "output_type": "stream",
          "text": [
            "Train on 30000 samples, validate on 10479 samples\n",
            "Epoch 1/3\n",
            "30000/30000 [==============================] - 49s 2ms/step - loss: 0.2789 - accuracy: 0.8944 - val_loss: 0.2228 - val_accuracy: 0.9117\n",
            "Epoch 2/3\n",
            "30000/30000 [==============================] - 49s 2ms/step - loss: 0.2211 - accuracy: 0.9133 - val_loss: 0.2004 - val_accuracy: 0.9188\n",
            "Epoch 3/3\n",
            "30000/30000 [==============================] - 48s 2ms/step - loss: 0.2047 - accuracy: 0.9189 - val_loss: 0.1855 - val_accuracy: 0.9269\n"
          ],
          "name": "stdout"
        }
      ]
    },
    {
      "cell_type": "code",
      "metadata": {
        "id": "abotWXUxK7UY",
        "colab_type": "code",
        "colab": {}
      },
      "source": [
        ""
      ],
      "execution_count": 0,
      "outputs": []
    },
    {
      "cell_type": "markdown",
      "metadata": {
        "id": "0TmxgoFYMbXN",
        "colab_type": "text"
      },
      "source": [
        "#different batch size = 64 , optimizer = sgd  and only 2 epochs"
      ]
    },
    {
      "cell_type": "code",
      "metadata": {
        "id": "eBuZATpfMd9p",
        "colab_type": "code",
        "colab": {
          "base_uri": "https://localhost:8080/",
          "height": 118
        },
        "outputId": "c0f4c058-66a4-4cb3-9cc7-bae90169652b"
      },
      "source": [
        "model=loki_1()\n",
        "model.compile(loss='binary_crossentropy', optimizer='sgd', metrics=['accuracy'])\n",
        "# %tensorboard --logdir logs/fit\n",
        "loki_model = model.fit(x_train, y_train,batch_size=64,epochs=2,verbose=1,validation_data=(x_valid, y_valid),callbacks=[tensorboard_callback])"
      ],
      "execution_count": 30,
      "outputs": [
        {
          "output_type": "stream",
          "text": [
            "Train on 30000 samples, validate on 10479 samples\n",
            "Epoch 1/2\n",
            "30000/30000 [==============================] - 52s 2ms/step - loss: 0.4311 - accuracy: 0.8458 - val_loss: 0.2905 - val_accuracy: 0.9055\n",
            "Epoch 2/2\n",
            "30000/30000 [==============================] - 52s 2ms/step - loss: 0.3151 - accuracy: 0.8924 - val_loss: 0.2720 - val_accuracy: 0.9055\n"
          ],
          "name": "stdout"
        }
      ]
    },
    {
      "cell_type": "code",
      "metadata": {
        "id": "Bc7v9KSCX8DM",
        "colab_type": "code",
        "colab": {
          "base_uri": "https://localhost:8080/",
          "height": 427
        },
        "outputId": "33019142-2a7a-4345-9aac-87402f59aaf8"
      },
      "source": [
        "pip install -U tensorboard"
      ],
      "execution_count": 31,
      "outputs": [
        {
          "output_type": "stream",
          "text": [
            "Requirement already up-to-date: tensorboard in /usr/local/lib/python3.6/dist-packages (2.2.1)\n",
            "Requirement already satisfied, skipping upgrade: setuptools>=41.0.0 in /usr/local/lib/python3.6/dist-packages (from tensorboard) (46.1.3)\n",
            "Requirement already satisfied, skipping upgrade: tensorboard-plugin-wit>=1.6.0 in /usr/local/lib/python3.6/dist-packages (from tensorboard) (1.6.0.post3)\n",
            "Requirement already satisfied, skipping upgrade: protobuf>=3.6.0 in /usr/local/lib/python3.6/dist-packages (from tensorboard) (3.10.0)\n",
            "Requirement already satisfied, skipping upgrade: google-auth<2,>=1.6.3 in /usr/local/lib/python3.6/dist-packages (from tensorboard) (1.7.2)\n",
            "Requirement already satisfied, skipping upgrade: numpy>=1.12.0 in /usr/local/lib/python3.6/dist-packages (from tensorboard) (1.18.3)\n",
            "Requirement already satisfied, skipping upgrade: markdown>=2.6.8 in /usr/local/lib/python3.6/dist-packages (from tensorboard) (3.2.1)\n",
            "Requirement already satisfied, skipping upgrade: wheel>=0.26; python_version >= \"3\" in /usr/local/lib/python3.6/dist-packages (from tensorboard) (0.34.2)\n",
            "Requirement already satisfied, skipping upgrade: google-auth-oauthlib<0.5,>=0.4.1 in /usr/local/lib/python3.6/dist-packages (from tensorboard) (0.4.1)\n",
            "Requirement already satisfied, skipping upgrade: requests<3,>=2.21.0 in /usr/local/lib/python3.6/dist-packages (from tensorboard) (2.21.0)\n",
            "Requirement already satisfied, skipping upgrade: absl-py>=0.4 in /usr/local/lib/python3.6/dist-packages (from tensorboard) (0.9.0)\n",
            "Requirement already satisfied, skipping upgrade: six>=1.10.0 in /usr/local/lib/python3.6/dist-packages (from tensorboard) (1.12.0)\n",
            "Requirement already satisfied, skipping upgrade: werkzeug>=0.11.15 in /usr/local/lib/python3.6/dist-packages (from tensorboard) (1.0.1)\n",
            "Requirement already satisfied, skipping upgrade: grpcio>=1.24.3 in /usr/local/lib/python3.6/dist-packages (from tensorboard) (1.28.1)\n",
            "Requirement already satisfied, skipping upgrade: rsa<4.1,>=3.1.4 in /usr/local/lib/python3.6/dist-packages (from google-auth<2,>=1.6.3->tensorboard) (4.0)\n",
            "Requirement already satisfied, skipping upgrade: pyasn1-modules>=0.2.1 in /usr/local/lib/python3.6/dist-packages (from google-auth<2,>=1.6.3->tensorboard) (0.2.8)\n",
            "Requirement already satisfied, skipping upgrade: cachetools<3.2,>=2.0.0 in /usr/local/lib/python3.6/dist-packages (from google-auth<2,>=1.6.3->tensorboard) (3.1.1)\n",
            "Requirement already satisfied, skipping upgrade: requests-oauthlib>=0.7.0 in /usr/local/lib/python3.6/dist-packages (from google-auth-oauthlib<0.5,>=0.4.1->tensorboard) (1.3.0)\n",
            "Requirement already satisfied, skipping upgrade: chardet<3.1.0,>=3.0.2 in /usr/local/lib/python3.6/dist-packages (from requests<3,>=2.21.0->tensorboard) (3.0.4)\n",
            "Requirement already satisfied, skipping upgrade: urllib3<1.25,>=1.21.1 in /usr/local/lib/python3.6/dist-packages (from requests<3,>=2.21.0->tensorboard) (1.24.3)\n",
            "Requirement already satisfied, skipping upgrade: idna<2.9,>=2.5 in /usr/local/lib/python3.6/dist-packages (from requests<3,>=2.21.0->tensorboard) (2.8)\n",
            "Requirement already satisfied, skipping upgrade: certifi>=2017.4.17 in /usr/local/lib/python3.6/dist-packages (from requests<3,>=2.21.0->tensorboard) (2020.4.5.1)\n",
            "Requirement already satisfied, skipping upgrade: pyasn1>=0.1.3 in /usr/local/lib/python3.6/dist-packages (from rsa<4.1,>=3.1.4->google-auth<2,>=1.6.3->tensorboard) (0.4.8)\n",
            "Requirement already satisfied, skipping upgrade: oauthlib>=3.0.0 in /usr/local/lib/python3.6/dist-packages (from requests-oauthlib>=0.7.0->google-auth-oauthlib<0.5,>=0.4.1->tensorboard) (3.1.0)\n"
          ],
          "name": "stdout"
        }
      ]
    },
    {
      "cell_type": "code",
      "metadata": {
        "id": "TJijdgbRX9et",
        "colab_type": "code",
        "colab": {}
      },
      "source": [
        "# tensorboard dev upload --logdir logs/fit \\\n",
        "#     --name \"loki experiment\" \\                               \n",
        "#     --description \"hyperparameters experiment\"  \n"
      ],
      "execution_count": 0,
      "outputs": []
    },
    {
      "cell_type": "code",
      "metadata": {
        "id": "hTN3mqEfaswi",
        "colab_type": "code",
        "colab": {
          "base_uri": "https://localhost:8080/",
          "height": 200
        },
        "outputId": "b3781a92-a86e-4080-c9f7-5bbea55d0c5b"
      },
      "source": [
        "!tensorboard dev upload --logdir logs"
      ],
      "execution_count": 35,
      "outputs": [
        {
          "output_type": "stream",
          "text": [
            "2020-04-30 10:06:37.055222: I tensorflow/stream_executor/platform/default/dso_loader.cc:44] Successfully opened dynamic library libcudart.so.10.1\n",
            "Data for the \"graphs\" plugin is now uploaded to TensorBoard.dev! Note that uploaded data is public. If you do not want to upload data for this plugin, use the \"--plugins\" command line argument.\n",
            "Upload started and will continue reading any new data as it's added\n",
            "to the logdir. To stop uploading, press Ctrl-C.\n",
            "View your TensorBoard live at: https://tensorboard.dev/experiment/1KdwUyCbSxyNNBzn7N4GoA/\n",
            "E0430 10:06:40.652624 140501771982720 uploader.py:770] Attempted to re-upload existing blob.  Skipping.\n",
            "E0430 10:06:41.632715 140501771982720 uploader.py:770] Attempted to re-upload existing blob.  Skipping.\n",
            "\n",
            "Upload stopped. View your TensorBoard at https://tensorboard.dev/experiment/1KdwUyCbSxyNNBzn7N4GoA/\n",
            "^C\n"
          ],
          "name": "stdout"
        }
      ]
    },
    {
      "cell_type": "code",
      "metadata": {
        "id": "u4eAnf_XbZX6",
        "colab_type": "code",
        "colab": {
          "base_uri": "https://localhost:8080/",
          "height": 70
        },
        "outputId": "388cdc54-9eec-4345-ff2a-979c02123359"
      },
      "source": [
        "!tensorboard dev update-metadata --experiment_id '1KdwUyCbSxyNNBzn7N4GoA' --name \"graded 3 model\" --description \"trying different hyperparameters\""
      ],
      "execution_count": 38,
      "outputs": [
        {
          "output_type": "stream",
          "text": [
            "2020-04-30 10:13:23.986466: I tensorflow/stream_executor/platform/default/dso_loader.cc:44] Successfully opened dynamic library libcudart.so.10.1\n",
            "Data for the \"graphs\" plugin is now uploaded to TensorBoard.dev! Note that uploaded data is public. If you do not want to upload data for this plugin, use the \"--plugins\" command line argument.\n"
          ],
          "name": "stdout"
        }
      ]
    },
    {
      "cell_type": "code",
      "metadata": {
        "id": "50fjb79kkpvH",
        "colab_type": "code",
        "colab": {}
      },
      "source": [
        ""
      ],
      "execution_count": 0,
      "outputs": []
    }
  ]
}